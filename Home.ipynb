{
  "cells": [
    {
      "cell_type": "code",
      "execution_count": null,
      "metadata": {
        "id": "W1n7UvuHONNr"
      },
      "outputs": [],
      "source": [
        "!pip install -q streamlit\n"
      ]
    },
    {
      "cell_type": "code",
      "execution_count": null,
      "metadata": {
        "colab": {
          "base_uri": "https://localhost:8080/"
        },
        "id": "5Y4Uy--WP57g",
        "outputId": "bc542740-bcf2-4af2-8518-a8897b433389"
      },
      "outputs": [
        {
          "name": "stdout",
          "output_type": "stream",
          "text": [
            "35.230.49.70\n"
          ]
        }
      ],
      "source": [
        "!wget -q -O - ipv4.icanhazip.com"
      ]
    },
    {
      "cell_type": "code",
      "execution_count": null,
      "metadata": {
        "colab": {
          "base_uri": "https://localhost:8080/"
        },
        "id": "EzswLxJJEeiw",
        "outputId": "47b6b47c-22e0-4a34-c120-7022bc4c8bfb"
      },
      "outputs": [
        {
          "name": "stdout",
          "output_type": "stream",
          "text": [
            "Overwriting Home.py\n"
          ]
        }
      ],
      "source": [
        "%%writefile Home.py\n",
        "\n",
        "import streamlit as st\n",
        "\n",
        "def main():\n",
        "    # Set page title and background\n",
        "    st.set_page_config(page_title=\"Oncoscan - Multi Cancer Detection\", page_icon=\"🔬\", layout=\"wide\")\n",
        "    background_style = \"\"\"\n",
        "       <style>\n",
        "          [data-testid=\"stAppViewContainer\"]> .main {\n",
        "            background-image: url(\"https://i.pinimg.com/564x/32/c3/ea/32c3eaaed26fa73510851bc7ffdbf0fa.jpg\");\n",
        "            background-size: 100vw 100vh;\n",
        "            background-position: center;\n",
        "            background-repeat: no-repeat;\n",
        "          }\n",
        "        </style>\n",
        "    \"\"\"\n",
        "\n",
        "    st.markdown(background_style, unsafe_allow_html=True)\n",
        "\n",
        "\n",
        "    # Header\n",
        "    st.title(\"Oncoscan - Multi Cancer Detection\")\n",
        "    st.write(\"Welcome to Oncoscan! Your one-stop solution for multi-cancer detection.\")\n",
        "\n",
        "    # General Information about cancer\n",
        "    st.header(\"General Information about Cancer\")\n",
        "    st.markdown(\"\"\"\n",
        "    Cancer is a group of diseases characterized by the uncontrolled growth and spread of abnormal cells.\n",
        "    It can affect any part of the body and has various types, each with its own symptoms, risk factors, and treatments.\n",
        "    Early detection plays a crucial role in improving outcomes and survival rates.\n",
        "    \"\"\")\n",
        "\n",
        "    # Cancer Statistics\n",
        "    st.header(\"Cancer Statistics\")\n",
        "    st.markdown(\"\"\"\n",
        "    - According to the World Health Organization (WHO), cancer is the second leading cause of death globally,\n",
        "      accounting for an estimated 9.6 million deaths in 2018.\n",
        "    - The most common cancers worldwide are lung, breast, colorectal, prostate, and stomach cancers.\n",
        "    - Approximately 70% of deaths from cancer occur in low- and middle-income countries.\n",
        "    \"\"\")\n",
        "\n",
        "    # Cancer Prevention Tips\n",
        "    st.header(\"Cancer Prevention Tips\")\n",
        "    st.markdown(\"\"\"\n",
        "    While not all cancers are preventable, there are steps you can take to reduce your risk:\n",
        "    1. **Quit Smoking:** Smoking is a leading cause of many cancers, including lung, throat, and mouth cancer.\n",
        "    2. **Maintain a Healthy Diet:** Eat plenty of fruits, vegetables, and whole grains, and limit processed foods.\n",
        "    3. **Exercise Regularly:** Aim for at least 30 minutes of moderate exercise most days of the week.\n",
        "    4. **Limit Alcohol Consumption:** Excessive alcohol consumption is linked to an increased risk of several cancers.\n",
        "    5. **Protect Yourself from the Sun:** Use sunscreen, wear protective clothing, and avoid tanning beds.\n",
        "    6. **Stay Vaccinated:** Vaccines can help prevent certain cancers, such as hepatitis B and human papillomavirus (HPV).\n",
        "    \"\"\")\n",
        "\n",
        "    # Cancer Screening Guidelines\n",
        "    st.header(\"Cancer Screening Guidelines\")\n",
        "    st.markdown(\"\"\"\n",
        "    Regular screenings can help detect cancer early when treatment is most effective.\n",
        "    Talk to your doctor about the appropriate screening tests for your age and risk factors.\n",
        "    Some common cancer screening tests include:\n",
        "    - Mammograms for breast cancer\n",
        "    - Pap smears for cervical cancer\n",
        "    - Colonoscopies for colorectal cancer\n",
        "    - PSA tests for prostate cancer\n",
        "    - CT scans and X-rays for lung cancer\n",
        "    \"\"\")\n",
        "\n",
        "    # Sidebar with top hospitals and doctors in Chennai\n",
        "    st.sidebar.title(\"Top Hospitals for Cancer in Chennai\")\n",
        "    st.sidebar.markdown(\"\"\"\n",
        "    1. Apollo Hospitals, Greams Road\n",
        "    2. Adyar Cancer Institute\n",
        "    3. Fortis Malar Hospital, Adyar\n",
        "    4. MIOT International\n",
        "    5. Cancer Institute (WIA), Adayar\n",
        "    \"\"\")\n",
        "\n",
        "    st.sidebar.title(\"Top Doctors for Cancer in Chennai\")\n",
        "    st.sidebar.markdown(\"\"\"\n",
        "    1. Dr. V. Shanta - Adyar Cancer Institute\n",
        "    2. Dr. Prathap C. Reddy - Apollo Hospitals\n",
        "    3. Dr. Mohan Kameswaran - MIOT International\n",
        "    4. Dr. Arun Kumar V - Fortis Malar Hospital\n",
        "    5. Dr. R. Pallivikashan - Cancer Institute (WIA)\n",
        "    \"\"\")\n",
        "\n",
        "if __name__ == \"__main__\":\n",
        "    main()\n"
      ]
    },
    {
      "cell_type": "code",
      "execution_count": null,
      "metadata": {
        "colab": {
          "base_uri": "https://localhost:8080/"
        },
        "id": "Je6yjkyscpA4",
        "outputId": "44318bf7-df60-4072-e71c-e57c5e0ec54a"
      },
      "outputs": [
        {
          "name": "stdout",
          "output_type": "stream",
          "text": [
            "\u001b[K\u001b[?25h\u001b[37;40mnpm\u001b[0m \u001b[0m\u001b[30;43mWARN\u001b[0m \u001b[0m\u001b[35msaveError\u001b[0m ENOENT: no such file or directory, open '/content/package.json'\n",
            "\u001b[K\u001b[?25h\u001b[37;40mnpm\u001b[0m \u001b[0m\u001b[34;40mnotice\u001b[0m\u001b[35m\u001b[0m created a lockfile as package-lock.json. You should commit this file.\n",
            "\u001b[0m\u001b[37;40mnpm\u001b[0m \u001b[0m\u001b[30;43mWARN\u001b[0m \u001b[0m\u001b[35menoent\u001b[0m ENOENT: no such file or directory, open '/content/package.json'\n",
            "\u001b[0m\u001b[37;40mnpm\u001b[0m \u001b[0m\u001b[30;43mWARN\u001b[0m\u001b[35m\u001b[0m content No description\n",
            "\u001b[0m\u001b[37;40mnpm\u001b[0m \u001b[0m\u001b[30;43mWARN\u001b[0m\u001b[35m\u001b[0m content No repository field.\n",
            "\u001b[0m\u001b[37;40mnpm\u001b[0m \u001b[0m\u001b[30;43mWARN\u001b[0m\u001b[35m\u001b[0m content No README data\n",
            "\u001b[0m\u001b[37;40mnpm\u001b[0m \u001b[0m\u001b[30;43mWARN\u001b[0m\u001b[35m\u001b[0m content No license field.\n",
            "\u001b[0m\n",
            "+ localtunnel@2.0.2\n",
            "added 22 packages from 22 contributors and audited 22 packages in 2.778s\n",
            "\n",
            "3 packages are looking for funding\n",
            "  run `npm fund` for details\n",
            "\n",
            "found 1 \u001b[93mmoderate\u001b[0m severity vulnerability\n",
            "  run `npm audit fix` to fix them, or `npm audit` for details\n",
            "\u001b[K\u001b[?25h\n",
            "\u001b[33m\u001b[39m\n",
            "\u001b[33m   ╭────────────────────────────────────────────────────────────────╮\u001b[39m\n",
            "   \u001b[33m│\u001b[39m                                                                \u001b[33m│\u001b[39m\n",
            "   \u001b[33m│\u001b[39m      New \u001b[31mmajor\u001b[39m version of npm available! \u001b[31m6.14.8\u001b[39m → \u001b[32m10.5.1\u001b[39m       \u001b[33m│\u001b[39m\n",
            "   \u001b[33m│\u001b[39m   \u001b[33mChangelog:\u001b[39m \u001b[36mhttps://github.com/npm/cli/releases/tag/v10.5.1\u001b[39m   \u001b[33m│\u001b[39m\n",
            "   \u001b[33m│\u001b[39m               Run \u001b[32mnpm install -g npm\u001b[39m to update!                \u001b[33m│\u001b[39m\n",
            "   \u001b[33m│\u001b[39m                                                                \u001b[33m│\u001b[39m\n",
            "\u001b[33m   ╰────────────────────────────────────────────────────────────────╯\u001b[39m\n",
            "\u001b[33m\u001b[39m\n",
            "\u001b[37;40mnpm\u001b[0m \u001b[0m\u001b[31;40mERR!\u001b[0m \u001b[0m\u001b[35mcode\u001b[0m EAUDITNOPJSON\n",
            "\u001b[0m\u001b[37;40mnpm\u001b[0m \u001b[0m\u001b[31;40mERR!\u001b[0m \u001b[0m\u001b[35maudit\u001b[0m No package.json found: Cannot audit a project without a package.json\n",
            "\u001b[0m\n",
            "\u001b[37;40mnpm\u001b[0m \u001b[0m\u001b[31;40mERR!\u001b[0m\u001b[35m\u001b[0m A complete log of this run can be found in:\n",
            "\u001b[0m\u001b[37;40mnpm\u001b[0m \u001b[0m\u001b[31;40mERR!\u001b[0m\u001b[35m\u001b[0m     /root/.npm/_logs/2024-04-04T02_49_59_819Z-debug.log\n",
            "\u001b[0m"
          ]
        }
      ],
      "source": [
        "!npm install localtunnel\n",
        "!npm audit fix"
      ]
    },
    {
      "cell_type": "code",
      "execution_count": null,
      "metadata": {
        "colab": {
          "background_save": true,
          "base_uri": "https://localhost:8080/"
        },
        "id": "5vJP8_aUMNSg",
        "outputId": "8c003ab2-5a0b-42f8-9ae7-bfdfbb5f63bb"
      },
      "outputs": [
        {
          "name": "stdout",
          "output_type": "stream",
          "text": [
            "\n",
            "Collecting usage statistics. To deactivate, set browser.gatherUsageStats to False.\n",
            "\u001b[0m\n",
            "\u001b[0m\n",
            "\u001b[34m\u001b[1m  You can now view your Streamlit app in your browser.\u001b[0m\n",
            "\u001b[0m\n",
            "\u001b[34m  Network URL: \u001b[0m\u001b[1mhttp://172.28.0.12:8501\u001b[0m\n",
            "\u001b[34m  External URL: \u001b[0m\u001b[1mhttp://35.230.49.70:8501\u001b[0m\n",
            "\u001b[0m\n",
            "\u001b[K\u001b[?25hnpx: installed 22 in 3.387s\n",
            "your url is: https://flat-birds-knock.loca.lt\n",
            "2024-04-04 02:50:26.023871: E external/local_xla/xla/stream_executor/cuda/cuda_dnn.cc:9261] Unable to register cuDNN factory: Attempting to register factory for plugin cuDNN when one has already been registered\n",
            "2024-04-04 02:50:26.023967: E external/local_xla/xla/stream_executor/cuda/cuda_fft.cc:607] Unable to register cuFFT factory: Attempting to register factory for plugin cuFFT when one has already been registered\n",
            "2024-04-04 02:50:26.027862: E external/local_xla/xla/stream_executor/cuda/cuda_blas.cc:1515] Unable to register cuBLAS factory: Attempting to register factory for plugin cuBLAS when one has already been registered\n",
            "2024-04-04 02:50:26.047993: I tensorflow/core/platform/cpu_feature_guard.cc:182] This TensorFlow binary is optimized to use available CPU instructions in performance-critical operations.\n",
            "To enable the following instructions: AVX2 FMA, in other operations, rebuild TensorFlow with the appropriate compiler flags.\n",
            "2024-04-04 02:50:27.904469: W tensorflow/compiler/tf2tensorrt/utils/py_utils.cc:38] TF-TRT Warning: Could not find TensorRT\n",
            "WARNING:tensorflow:No training configuration found in the save file, so the model was *not* compiled. Compile it manually.\n",
            "/content/pages/BreastCancer.py:15: DeprecationWarning: ANTIALIAS is deprecated and will be removed in Pillow 10 (2023-07-01). Use LANCZOS or Resampling.LANCZOS instead.\n",
            "  image = ImageOps.fit(image, size, Image.ANTIALIAS)\n",
            "1/1 [==============================] - 2s 2s/step\n",
            "WARNING:tensorflow:No training configuration found in the save file, so the model was *not* compiled. Compile it manually.\n",
            "/content/pages/LungCancer.py:15: DeprecationWarning: ANTIALIAS is deprecated and will be removed in Pillow 10 (2023-07-01). Use LANCZOS or Resampling.LANCZOS instead.\n",
            "  image = ImageOps.fit(image, size, Image.ANTIALIAS)\n",
            "1/1 [==============================] - 1s 949ms/step\n",
            "WARNING:tensorflow:No training configuration found in the save file, so the model was *not* compiled. Compile it manually.\n",
            "/content/pages/OralCancer.py:15: DeprecationWarning: ANTIALIAS is deprecated and will be removed in Pillow 10 (2023-07-01). Use LANCZOS or Resampling.LANCZOS instead.\n",
            "  image = ImageOps.fit(image, size, Image.ANTIALIAS)\n",
            "1/1 [==============================] - 1s 1s/step\n",
            "WARNING:tensorflow:No training configuration found in the save file, so the model was *not* compiled. Compile it manually.\n",
            "/content/pages/OralCancer.py:15: DeprecationWarning: ANTIALIAS is deprecated and will be removed in Pillow 10 (2023-07-01). Use LANCZOS or Resampling.LANCZOS instead.\n",
            "  image = ImageOps.fit(image, size, Image.ANTIALIAS)\n",
            "1/1 [==============================] - 1s 1s/step\n",
            "WARNING:tensorflow:No training configuration found in the save file, so the model was *not* compiled. Compile it manually.\n",
            "/content/pages/SkinCancer.py:15: DeprecationWarning: ANTIALIAS is deprecated and will be removed in Pillow 10 (2023-07-01). Use LANCZOS or Resampling.LANCZOS instead.\n",
            "  image = ImageOps.fit(image, size, Image.ANTIALIAS)\n",
            "WARNING:tensorflow:5 out of the last 5 calls to <function Model.make_predict_function.<locals>.predict_function at 0x7c8b417225f0> triggered tf.function retracing. Tracing is expensive and the excessive number of tracings could be due to (1) creating @tf.function repeatedly in a loop, (2) passing tensors with different shapes, (3) passing Python objects instead of tensors. For (1), please define your @tf.function outside of the loop. For (2), @tf.function has reduce_retracing=True option that can avoid unnecessary retracing. For (3), please refer to https://www.tensorflow.org/guide/function#controlling_retracing and https://www.tensorflow.org/api_docs/python/tf/function for  more details.\n",
            "1/1 [==============================] - 1s 1s/step\n",
            "WARNING:tensorflow:No training configuration found in the save file, so the model was *not* compiled. Compile it manually.\n",
            "/content/pages/SkinCancer.py:15: DeprecationWarning: ANTIALIAS is deprecated and will be removed in Pillow 10 (2023-07-01). Use LANCZOS or Resampling.LANCZOS instead.\n",
            "  image = ImageOps.fit(image, size, Image.ANTIALIAS)\n",
            "WARNING:tensorflow:6 out of the last 6 calls to <function Model.make_predict_function.<locals>.predict_function at 0x7c8aad301fc0> triggered tf.function retracing. Tracing is expensive and the excessive number of tracings could be due to (1) creating @tf.function repeatedly in a loop, (2) passing tensors with different shapes, (3) passing Python objects instead of tensors. For (1), please define your @tf.function outside of the loop. For (2), @tf.function has reduce_retracing=True option that can avoid unnecessary retracing. For (3), please refer to https://www.tensorflow.org/guide/function#controlling_retracing and https://www.tensorflow.org/api_docs/python/tf/function for  more details.\n",
            "1/1 [==============================] - 1s 893ms/step\n",
            "WARNING:tensorflow:No training configuration found in the save file, so the model was *not* compiled. Compile it manually.\n",
            "/content/pages/BreastCancer.py:15: DeprecationWarning: ANTIALIAS is deprecated and will be removed in Pillow 10 (2023-07-01). Use LANCZOS or Resampling.LANCZOS instead.\n",
            "  image = ImageOps.fit(image, size, Image.ANTIALIAS)\n",
            "1/1 [==============================] - 1s 924ms/step\n",
            "WARNING:tensorflow:No training configuration found in the save file, so the model was *not* compiled. Compile it manually.\n",
            "/content/pages/BreastCancer.py:15: DeprecationWarning: ANTIALIAS is deprecated and will be removed in Pillow 10 (2023-07-01). Use LANCZOS or Resampling.LANCZOS instead.\n",
            "  image = ImageOps.fit(image, size, Image.ANTIALIAS)\n",
            "1/1 [==============================] - 1s 904ms/step\n",
            "WARNING:tensorflow:No training configuration found in the save file, so the model was *not* compiled. Compile it manually.\n",
            "/content/pages/LungCancer.py:15: DeprecationWarning: ANTIALIAS is deprecated and will be removed in Pillow 10 (2023-07-01). Use LANCZOS or Resampling.LANCZOS instead.\n",
            "  image = ImageOps.fit(image, size, Image.ANTIALIAS)\n",
            "1/1 [==============================] - 1s 896ms/step\n",
            "WARNING:tensorflow:No training configuration found in the save file, so the model was *not* compiled. Compile it manually.\n",
            "/content/pages/OralCancer.py:15: DeprecationWarning: ANTIALIAS is deprecated and will be removed in Pillow 10 (2023-07-01). Use LANCZOS or Resampling.LANCZOS instead.\n",
            "  image = ImageOps.fit(image, size, Image.ANTIALIAS)\n",
            "1/1 [==============================] - 1s 921ms/step\n"
          ]
        }
      ],
      "source": [
        "!streamlit run Home.py & npx localtunnel --port 8501"
      ]
    },
    {
      "cell_type": "code",
      "execution_count": null,
      "metadata": {
        "id": "fzLZ8OrxaTXG"
      },
      "outputs": [],
      "source": []
    }
  ],
  "metadata": {
    "colab": {
      "provenance": []
    },
    "kernelspec": {
      "display_name": "Python 3",
      "name": "python3"
    },
    "language_info": {
      "name": "python"
    }
  },
  "nbformat": 4,
  "nbformat_minor": 0
}